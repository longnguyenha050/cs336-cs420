{
  "nbformat": 4,
  "nbformat_minor": 0,
  "metadata": {
    "colab": {
      "provenance": []
    },
    "kernelspec": {
      "name": "python3",
      "display_name": "Python 3"
    },
    "language_info": {
      "name": "python"
    }
  },
  "cells": [
    {
      "cell_type": "code",
      "source": [
        "!unzip /content/CLIP4CirDemo.zip"
      ],
      "metadata": {
        "id": "NVIkDLFHK5Qo"
      },
      "execution_count": null,
      "outputs": []
    },
    {
      "cell_type": "code",
      "source": [
        "!pip install flask==2.0.2\n",
        "!pip install git+https://github.com/openai/CLIP.git"
      ],
      "metadata": {
        "colab": {
          "base_uri": "https://localhost:8080/"
        },
        "id": "uJc1vudgp5BB",
        "outputId": "2b434666-b324-4d90-da03-ae06ae204d4a"
      },
      "execution_count": null,
      "outputs": [
        {
          "output_type": "stream",
          "name": "stdout",
          "text": [
            "Collecting flask==2.0.2\n",
            "  Downloading Flask-2.0.2-py3-none-any.whl.metadata (3.8 kB)\n",
            "Requirement already satisfied: Werkzeug>=2.0 in /usr/local/lib/python3.10/dist-packages (from flask==2.0.2) (3.1.3)\n",
            "Requirement already satisfied: Jinja2>=3.0 in /usr/local/lib/python3.10/dist-packages (from flask==2.0.2) (3.1.4)\n",
            "Requirement already satisfied: itsdangerous>=2.0 in /usr/local/lib/python3.10/dist-packages (from flask==2.0.2) (2.2.0)\n",
            "Requirement already satisfied: click>=7.1.2 in /usr/local/lib/python3.10/dist-packages (from flask==2.0.2) (8.1.7)\n",
            "Requirement already satisfied: MarkupSafe>=2.0 in /usr/local/lib/python3.10/dist-packages (from Jinja2>=3.0->flask==2.0.2) (3.0.2)\n",
            "Downloading Flask-2.0.2-py3-none-any.whl (95 kB)\n",
            "\u001b[?25l   \u001b[90m━━━━━━━━━━━━━━━━━━━━━━━━━━━━━━━━━━━━━━━━\u001b[0m \u001b[32m0.0/95.2 kB\u001b[0m \u001b[31m?\u001b[0m eta \u001b[36m-:--:--\u001b[0m\r\u001b[2K   \u001b[90m━━━━━━━━━━━━━━━━━━━━━━━━━━━━━━━━━━━━━━━━\u001b[0m \u001b[32m95.2/95.2 kB\u001b[0m \u001b[31m3.5 MB/s\u001b[0m eta \u001b[36m0:00:00\u001b[0m\n",
            "\u001b[?25hInstalling collected packages: flask\n",
            "  Attempting uninstall: flask\n",
            "    Found existing installation: Flask 3.1.0\n",
            "    Uninstalling Flask-3.1.0:\n",
            "      Successfully uninstalled Flask-3.1.0\n",
            "Successfully installed flask-2.0.2\n",
            "Collecting git+https://github.com/openai/CLIP.git\n",
            "  Cloning https://github.com/openai/CLIP.git to /tmp/pip-req-build-gefxi4_1\n",
            "  Running command git clone --filter=blob:none --quiet https://github.com/openai/CLIP.git /tmp/pip-req-build-gefxi4_1\n",
            "  Resolved https://github.com/openai/CLIP.git to commit dcba3cb2e2827b402d2701e7e1c7d9fed8a20ef1\n",
            "  Preparing metadata (setup.py) ... \u001b[?25l\u001b[?25hdone\n",
            "Collecting ftfy (from clip==1.0)\n",
            "  Downloading ftfy-6.3.1-py3-none-any.whl.metadata (7.3 kB)\n",
            "Requirement already satisfied: packaging in /usr/local/lib/python3.10/dist-packages (from clip==1.0) (24.2)\n",
            "Requirement already satisfied: regex in /usr/local/lib/python3.10/dist-packages (from clip==1.0) (2024.11.6)\n",
            "Requirement already satisfied: tqdm in /usr/local/lib/python3.10/dist-packages (from clip==1.0) (4.67.1)\n",
            "Requirement already satisfied: torch in /usr/local/lib/python3.10/dist-packages (from clip==1.0) (2.5.1+cu121)\n",
            "Requirement already satisfied: torchvision in /usr/local/lib/python3.10/dist-packages (from clip==1.0) (0.20.1+cu121)\n",
            "Requirement already satisfied: wcwidth in /usr/local/lib/python3.10/dist-packages (from ftfy->clip==1.0) (0.2.13)\n",
            "Requirement already satisfied: filelock in /usr/local/lib/python3.10/dist-packages (from torch->clip==1.0) (3.16.1)\n",
            "Requirement already satisfied: typing-extensions>=4.8.0 in /usr/local/lib/python3.10/dist-packages (from torch->clip==1.0) (4.12.2)\n",
            "Requirement already satisfied: networkx in /usr/local/lib/python3.10/dist-packages (from torch->clip==1.0) (3.4.2)\n",
            "Requirement already satisfied: jinja2 in /usr/local/lib/python3.10/dist-packages (from torch->clip==1.0) (3.1.4)\n",
            "Requirement already satisfied: fsspec in /usr/local/lib/python3.10/dist-packages (from torch->clip==1.0) (2024.10.0)\n",
            "Requirement already satisfied: sympy==1.13.1 in /usr/local/lib/python3.10/dist-packages (from torch->clip==1.0) (1.13.1)\n",
            "Requirement already satisfied: mpmath<1.4,>=1.1.0 in /usr/local/lib/python3.10/dist-packages (from sympy==1.13.1->torch->clip==1.0) (1.3.0)\n",
            "Requirement already satisfied: numpy in /usr/local/lib/python3.10/dist-packages (from torchvision->clip==1.0) (1.26.4)\n",
            "Requirement already satisfied: pillow!=8.3.*,>=5.3.0 in /usr/local/lib/python3.10/dist-packages (from torchvision->clip==1.0) (11.0.0)\n",
            "Requirement already satisfied: MarkupSafe>=2.0 in /usr/local/lib/python3.10/dist-packages (from jinja2->torch->clip==1.0) (3.0.2)\n",
            "Downloading ftfy-6.3.1-py3-none-any.whl (44 kB)\n",
            "\u001b[2K   \u001b[90m━━━━━━━━━━━━━━━━━━━━━━━━━━━━━━━━━━━━━━━━\u001b[0m \u001b[32m44.8/44.8 kB\u001b[0m \u001b[31m2.9 MB/s\u001b[0m eta \u001b[36m0:00:00\u001b[0m\n",
            "\u001b[?25hBuilding wheels for collected packages: clip\n",
            "  Building wheel for clip (setup.py) ... \u001b[?25l\u001b[?25hdone\n",
            "  Created wheel for clip: filename=clip-1.0-py3-none-any.whl size=1369489 sha256=3b2625be1025da499363806497aa8075eeabc26f1f68e484c40fefb2e6768431\n",
            "  Stored in directory: /tmp/pip-ephem-wheel-cache-umq936mr/wheels/da/2b/4c/d6691fa9597aac8bb85d2ac13b112deb897d5b50f5ad9a37e4\n",
            "Successfully built clip\n",
            "Installing collected packages: ftfy, clip\n",
            "Successfully installed clip-1.0 ftfy-6.3.1\n"
          ]
        }
      ]
    },
    {
      "cell_type": "code",
      "source": [
        "!apt-get install git-lfs\n",
        "!git lfs install\n"
      ],
      "metadata": {
        "colab": {
          "base_uri": "https://localhost:8080/"
        },
        "id": "tUkFFJNerRBK",
        "outputId": "75cae1fe-2374-4ed7-900e-94b3fab24618"
      },
      "execution_count": null,
      "outputs": [
        {
          "output_type": "stream",
          "name": "stdout",
          "text": [
            "Reading package lists... Done\n",
            "Building dependency tree... Done\n",
            "Reading state information... Done\n",
            "git-lfs is already the newest version (3.0.2-1ubuntu0.3).\n",
            "0 upgraded, 0 newly installed, 0 to remove and 49 not upgraded.\n",
            "Git LFS initialized.\n"
          ]
        }
      ]
    },
    {
      "cell_type": "code",
      "source": [
        "# !python /content/CLIP4CirDemo/extract_features.py"
      ],
      "metadata": {
        "colab": {
          "base_uri": "https://localhost:8080/"
        },
        "id": "9C6E7nf2Z5xz",
        "outputId": "ae560f46-04f0-4c8d-807a-26f33f2675a7"
      },
      "execution_count": null,
      "outputs": [
        {
          "output_type": "stream",
          "name": "stdout",
          "text": [
            "FashionIQ val - ['dress'] dataset initialized\n",
            "/usr/local/lib/python3.10/dist-packages/torch/utils/data/dataloader.py:617: UserWarning: This DataLoader will create 8 worker processes in total. Our suggested max number of worker in current system is 2, which is smaller than what this DataLoader is going to create. Please be aware that excessive worker creation might get DataLoader running slow or even freeze, lower the worker number to avoid potential slowness/freeze if necessary.\n",
            "  warnings.warn(\n",
            "Extracting FashionIQ ['dress'] - val index features\n",
            "100% 120/120 [00:26<00:00,  4.54it/s]\n",
            "FashionIQ test - ['dress'] dataset initialized\n",
            "Extracting FashionIQ ['dress'] - test index features\n",
            "100% 120/120 [00:26<00:00,  4.44it/s]\n",
            "FashionIQ val - ['toptee'] dataset initialized\n",
            "Extracting FashionIQ ['toptee'] - val index features\n",
            "100% 168/168 [00:35<00:00,  4.77it/s]\n",
            "FashionIQ test - ['toptee'] dataset initialized\n",
            "Extracting FashionIQ ['toptee'] - test index features\n",
            "100% 168/168 [00:37<00:00,  4.54it/s]\n",
            "FashionIQ val - ['shirt'] dataset initialized\n",
            "Extracting FashionIQ ['shirt'] - val index features\n",
            "100% 199/199 [00:39<00:00,  4.99it/s]\n",
            "FashionIQ test - ['shirt'] dataset initialized\n",
            "Extracting FashionIQ ['shirt'] - test index features\n",
            "100% 199/199 [00:38<00:00,  5.11it/s]\n"
          ]
        }
      ]
    },
    {
      "cell_type": "code",
      "source": [
        "!pip install --upgrade flask werkzeug"
      ],
      "metadata": {
        "colab": {
          "base_uri": "https://localhost:8080/"
        },
        "id": "HBDXkVUfnP5b",
        "outputId": "5c61aeda-4a3b-4ce5-a72b-46fae7749502"
      },
      "execution_count": 13,
      "outputs": [
        {
          "output_type": "stream",
          "name": "stdout",
          "text": [
            "Requirement already satisfied: flask in /usr/local/lib/python3.10/dist-packages (2.0.2)\n",
            "Collecting flask\n",
            "  Downloading flask-3.1.0-py3-none-any.whl.metadata (2.7 kB)\n",
            "Requirement already satisfied: werkzeug in /usr/local/lib/python3.10/dist-packages (3.1.3)\n",
            "Requirement already satisfied: Jinja2>=3.1.2 in /usr/local/lib/python3.10/dist-packages (from flask) (3.1.4)\n",
            "Requirement already satisfied: itsdangerous>=2.2 in /usr/local/lib/python3.10/dist-packages (from flask) (2.2.0)\n",
            "Requirement already satisfied: click>=8.1.3 in /usr/local/lib/python3.10/dist-packages (from flask) (8.1.7)\n",
            "Requirement already satisfied: blinker>=1.9 in /usr/local/lib/python3.10/dist-packages (from flask) (1.9.0)\n",
            "Requirement already satisfied: MarkupSafe>=2.1.1 in /usr/local/lib/python3.10/dist-packages (from werkzeug) (3.0.2)\n",
            "Downloading flask-3.1.0-py3-none-any.whl (102 kB)\n",
            "\u001b[2K   \u001b[90m━━━━━━━━━━━━━━━━━━━━━━━━━━━━━━━━━━━━━━━━\u001b[0m \u001b[32m103.0/103.0 kB\u001b[0m \u001b[31m3.4 MB/s\u001b[0m eta \u001b[36m0:00:00\u001b[0m\n",
            "\u001b[?25hInstalling collected packages: flask\n",
            "  Attempting uninstall: flask\n",
            "    Found existing installation: Flask 2.0.2\n",
            "    Uninstalling Flask-2.0.2:\n",
            "      Successfully uninstalled Flask-2.0.2\n",
            "Successfully installed flask-3.1.0\n"
          ]
        }
      ]
    },
    {
      "cell_type": "code",
      "source": [
        "!pip install pyngrok"
      ],
      "metadata": {
        "colab": {
          "base_uri": "https://localhost:8080/"
        },
        "id": "4EPU_x3rpZih",
        "outputId": "771e4adf-37d1-4f81-d89a-d0fcc7ef5c62"
      },
      "execution_count": 14,
      "outputs": [
        {
          "output_type": "stream",
          "name": "stdout",
          "text": [
            "Collecting pyngrok\n",
            "  Downloading pyngrok-7.2.2-py3-none-any.whl.metadata (8.4 kB)\n",
            "Requirement already satisfied: PyYAML>=5.1 in /usr/local/lib/python3.10/dist-packages (from pyngrok) (6.0.2)\n",
            "Downloading pyngrok-7.2.2-py3-none-any.whl (22 kB)\n",
            "Installing collected packages: pyngrok\n",
            "Successfully installed pyngrok-7.2.2\n"
          ]
        }
      ]
    },
    {
      "cell_type": "code",
      "source": [
        "!ngrok config add-authtoken 2qDD4UUaTOtRpuGslqDNtD42B7S_4o2ovvcTuTpYcHLDiTSVf"
      ],
      "metadata": {
        "colab": {
          "base_uri": "https://localhost:8080/"
        },
        "id": "oFpjbDagp2hB",
        "outputId": "741f41a2-c160-461b-e585-97eef1c2493c"
      },
      "execution_count": 15,
      "outputs": [
        {
          "output_type": "stream",
          "name": "stdout",
          "text": [
            "Authtoken saved to configuration file: /root/.config/ngrok/ngrok.yml\n"
          ]
        }
      ]
    },
    {
      "cell_type": "code",
      "source": [
        "!python /content/CLIP4CirDemo/app.py"
      ],
      "metadata": {
        "colab": {
          "base_uri": "https://localhost:8080/"
        },
        "id": "TMeIeXX-mxPh",
        "outputId": "f06a4009-f93c-4c42-892b-6821dac8faa8"
      },
      "execution_count": 38,
      "outputs": [
        {
          "output_type": "stream",
          "name": "stdout",
          "text": [
            "/content/CLIP4CirDemo/app.py:305: FutureWarning: You are using `torch.load` with `weights_only=False` (the current default value), which uses the default pickle module implicitly. It is possible to construct malicious pickle data which will execute arbitrary code during unpickling (See https://github.com/pytorch/pytorch/blob/main/SECURITY.md#untrusted-models for more details). In a future release, the default value for `weights_only` will be flipped to `True`. This limits the functions that could be executed during unpickling. Arbitrary objects will no longer be allowed to be loaded via this mode unless they are explicitly allowlisted by the user via `torch.serialization.add_safe_globals`. We recommend you start setting `weights_only=True` for any use case where you don't have full control of the loaded file. Please open an issue on GitHub for any issues related to this experimental feature.\n",
            "  fashionIQ_val_dress_index_features = torch.load(\n",
            "/content/CLIP4CirDemo/app.py:313: FutureWarning: You are using `torch.load` with `weights_only=False` (the current default value), which uses the default pickle module implicitly. It is possible to construct malicious pickle data which will execute arbitrary code during unpickling (See https://github.com/pytorch/pytorch/blob/main/SECURITY.md#untrusted-models for more details). In a future release, the default value for `weights_only` will be flipped to `True`. This limits the functions that could be executed during unpickling. Arbitrary objects will no longer be allowed to be loaded via this mode unless they are explicitly allowlisted by the user via `torch.serialization.add_safe_globals`. We recommend you start setting `weights_only=True` for any use case where you don't have full control of the loaded file. Please open an issue on GitHub for any issues related to this experimental feature.\n",
            "  fashionIQ_test_dress_index_features = torch.load(\n",
            "/content/CLIP4CirDemo/app.py:327: FutureWarning: You are using `torch.load` with `weights_only=False` (the current default value), which uses the default pickle module implicitly. It is possible to construct malicious pickle data which will execute arbitrary code during unpickling (See https://github.com/pytorch/pytorch/blob/main/SECURITY.md#untrusted-models for more details). In a future release, the default value for `weights_only` will be flipped to `True`. This limits the functions that could be executed during unpickling. Arbitrary objects will no longer be allowed to be loaded via this mode unless they are explicitly allowlisted by the user via `torch.serialization.add_safe_globals`. We recommend you start setting `weights_only=True` for any use case where you don't have full control of the loaded file. Please open an issue on GitHub for any issues related to this experimental feature.\n",
            "  fashionIQ_val_shirt_index_features = torch.load(\n",
            "/content/CLIP4CirDemo/app.py:335: FutureWarning: You are using `torch.load` with `weights_only=False` (the current default value), which uses the default pickle module implicitly. It is possible to construct malicious pickle data which will execute arbitrary code during unpickling (See https://github.com/pytorch/pytorch/blob/main/SECURITY.md#untrusted-models for more details). In a future release, the default value for `weights_only` will be flipped to `True`. This limits the functions that could be executed during unpickling. Arbitrary objects will no longer be allowed to be loaded via this mode unless they are explicitly allowlisted by the user via `torch.serialization.add_safe_globals`. We recommend you start setting `weights_only=True` for any use case where you don't have full control of the loaded file. Please open an issue on GitHub for any issues related to this experimental feature.\n",
            "  fashionIQ_test_shirt_index_features = torch.load(\n",
            "/content/CLIP4CirDemo/app.py:348: FutureWarning: You are using `torch.load` with `weights_only=False` (the current default value), which uses the default pickle module implicitly. It is possible to construct malicious pickle data which will execute arbitrary code during unpickling (See https://github.com/pytorch/pytorch/blob/main/SECURITY.md#untrusted-models for more details). In a future release, the default value for `weights_only` will be flipped to `True`. This limits the functions that could be executed during unpickling. Arbitrary objects will no longer be allowed to be loaded via this mode unless they are explicitly allowlisted by the user via `torch.serialization.add_safe_globals`. We recommend you start setting `weights_only=True` for any use case where you don't have full control of the loaded file. Please open an issue on GitHub for any issues related to this experimental feature.\n",
            "  fashionIQ_val_toptee_index_features = torch.load(\n",
            "/content/CLIP4CirDemo/app.py:356: FutureWarning: You are using `torch.load` with `weights_only=False` (the current default value), which uses the default pickle module implicitly. It is possible to construct malicious pickle data which will execute arbitrary code during unpickling (See https://github.com/pytorch/pytorch/blob/main/SECURITY.md#untrusted-models for more details). In a future release, the default value for `weights_only` will be flipped to `True`. This limits the functions that could be executed during unpickling. Arbitrary objects will no longer be allowed to be loaded via this mode unless they are explicitly allowlisted by the user via `torch.serialization.add_safe_globals`. We recommend you start setting `weights_only=True` for any use case where you don't have full control of the loaded file. Please open an issue on GitHub for any issues related to this experimental feature.\n",
            "  fashionIQ_test_toptee_index_features = torch.load(\n",
            "Ngrok Tunnel URL: NgrokTunnel: \"https://4ce7-34-118-240-168.ngrok-free.app\" -> \"http://localhost:5000\"\n",
            " * Serving Flask app 'app'\n",
            " * Debug mode: off\n",
            "\u001b[31m\u001b[1mWARNING: This is a development server. Do not use it in a production deployment. Use a production WSGI server instead.\u001b[0m\n",
            " * Running on http://127.0.0.1:5000\n",
            "\u001b[33mPress CTRL+C to quit\u001b[0m\n",
            "127.0.0.1 - - [29/Dec/2024 11:19:03] \"GET / HTTP/1.1\" 200 -\n",
            "127.0.0.1 - - [29/Dec/2024 11:19:03] \"GET /static/css/bootstrap.min.css HTTP/1.1\" 200 -\n",
            "127.0.0.1 - - [29/Dec/2024 11:19:03] \"GET /static/css/mdb.dark.min.css HTTP/1.1\" 200 -\n",
            "127.0.0.1 - - [29/Dec/2024 11:19:03] \"GET /static/css/mdb.min.css HTTP/1.1\" 200 -\n",
            "127.0.0.1 - - [29/Dec/2024 11:19:03] \"GET /static/js/bootstrap.bundle.min.js HTTP/1.1\" 200 -\n",
            "127.0.0.1 - - [29/Dec/2024 11:19:03] \"GET /static/js/mdb.min.js HTTP/1.1\" 200 -\n",
            "127.0.0.1 - - [29/Dec/2024 11:19:05] \"GET /favicon.ico HTTP/1.1\" 200 -\n",
            "127.0.0.1 - - [29/Dec/2024 11:19:12] \"\u001b[32mPOST /file_upload/fashionIQ HTTP/1.1\u001b[0m\" 302 -\n",
            "127.0.0.1 - - [29/Dec/2024 11:19:13] \"GET /fashionIQ/tai_xuong_11735471152.jpg HTTP/1.1\" 200 -\n",
            "127.0.0.1 - - [29/Dec/2024 11:19:13] \"\u001b[36mGET /static/css/bootstrap.min.css HTTP/1.1\u001b[0m\" 304 -\n",
            "127.0.0.1 - - [29/Dec/2024 11:19:13] \"\u001b[36mGET /static/css/mdb.min.css HTTP/1.1\u001b[0m\" 304 -\n",
            "127.0.0.1 - - [29/Dec/2024 11:19:13] \"\u001b[36mGET /static/js/bootstrap.bundle.min.js HTTP/1.1\u001b[0m\" 304 -\n",
            "127.0.0.1 - - [29/Dec/2024 11:19:13] \"\u001b[36mGET /static/js/mdb.min.js HTTP/1.1\u001b[0m\" 304 -\n",
            "127.0.0.1 - - [29/Dec/2024 11:19:13] \"\u001b[36mGET /static/css/mdb.dark.min.css HTTP/1.1\u001b[0m\" 304 -\n",
            "127.0.0.1 - - [29/Dec/2024 11:19:13] \"GET /get_image/tai_xuong_11735471152.jpg?dataset=fashionIQ HTTP/1.1\" 200 -\n",
            "127.0.0.1 - - [29/Dec/2024 11:19:14] \"GET /favicon.ico HTTP/1.1\" 200 -\n",
            "127.0.0.1 - - [29/Dec/2024 11:19:28] \"\u001b[32mPOST /fashionIQ/tai_xuong_11735471152.jpg HTTP/1.1\u001b[0m\" 302 -\n",
            "/content/CLIP4CirDemo/app.py:219: UserWarning: The use of `x.T` on tensors of dimension other than 2 to reverse their shape is deprecated and it will throw an error in a future release. Consider `x.mT` to transpose batches of matrices or `x.permute(*torch.arange(x.ndim - 1, -1, -1))` to reverse the dimensions of a tensor. (Triggered internally at ../aten/src/ATen/native/TensorShape.cpp:3683.)\n",
            "  cos_similarity = index_features @ predicted_features.T\n",
            "127.0.0.1 - - [29/Dec/2024 11:19:30] \"GET /fashionIQ/tai_xuong_11735471152.jpg/same%20color%20but%20has%20dog%20on%20shirt HTTP/1.1\" 200 -\n",
            "127.0.0.1 - - [29/Dec/2024 11:19:31] \"\u001b[36mGET /static/js/mdb.min.js HTTP/1.1\u001b[0m\" 304 -\n",
            "127.0.0.1 - - [29/Dec/2024 11:19:31] \"GET /get_image/B004T9BKDY/640 HTTP/1.1\" 200 -\n",
            "127.0.0.1 - - [29/Dec/2024 11:19:31] \"\u001b[36mGET /static/css/mdb.min.css HTTP/1.1\u001b[0m\" 304 -\n",
            "127.0.0.1 - - [29/Dec/2024 11:19:31] \"GET /get_image/B004USFB34/640 HTTP/1.1\" 200 -\n",
            "127.0.0.1 - - [29/Dec/2024 11:19:31] \"\u001b[36mGET /static/css/mdb.dark.min.css HTTP/1.1\u001b[0m\" 304 -\n",
            "127.0.0.1 - - [29/Dec/2024 11:19:31] \"GET /get_image/B000N6QDGG/640 HTTP/1.1\" 200 -\n",
            "127.0.0.1 - - [29/Dec/2024 11:19:31] \"\u001b[36mGET /static/css/bootstrap.min.css HTTP/1.1\u001b[0m\" 304 -\n",
            "127.0.0.1 - - [29/Dec/2024 11:19:31] \"GET /get_image/B00774HYH4/640 HTTP/1.1\" 200 -\n",
            "127.0.0.1 - - [29/Dec/2024 11:19:31] \"GET /get_image/B004H3X2A6/640 HTTP/1.1\" 200 -\n",
            "127.0.0.1 - - [29/Dec/2024 11:19:31] \"GET /get_image/B005ILJ8QS/640 HTTP/1.1\" 200 -\n",
            "127.0.0.1 - - [29/Dec/2024 11:19:31] \"GET /get_image/B000FFPSBQ/640 HTTP/1.1\" 200 -\n",
            "127.0.0.1 - - [29/Dec/2024 11:19:31] \"GET /get_image/B004OKFF7K/640 HTTP/1.1\" 200 -\n",
            "127.0.0.1 - - [29/Dec/2024 11:19:31] \"GET /get_image/tai_xuong_11735471152.jpg?dataset=fashionIQ HTTP/1.1\" 200 -\n",
            "127.0.0.1 - - [29/Dec/2024 11:19:31] \"GET /get_image/B004TTZKNA/640 HTTP/1.1\" 200 -\n",
            "127.0.0.1 - - [29/Dec/2024 11:19:31] \"GET /get_image/B006ZZPSZQ/640 HTTP/1.1\" 200 -\n",
            "127.0.0.1 - - [29/Dec/2024 11:19:31] \"\u001b[36mGET /static/js/bootstrap.bundle.min.js HTTP/1.1\u001b[0m\" 304 -\n",
            "127.0.0.1 - - [29/Dec/2024 11:19:31] \"GET /get_image/B0072DA77O/640 HTTP/1.1\" 200 -\n",
            "127.0.0.1 - - [29/Dec/2024 11:19:31] \"GET /get_image/B00ALS5IM6/640 HTTP/1.1\" 200 -\n",
            "127.0.0.1 - - [29/Dec/2024 11:19:31] \"GET /get_image/B007738INY/640 HTTP/1.1\" 200 -\n",
            "127.0.0.1 - - [29/Dec/2024 11:19:31] \"GET /get_image/B000EOZ3BS/640 HTTP/1.1\" 200 -\n",
            "127.0.0.1 - - [29/Dec/2024 11:19:31] \"GET /get_image/B008F1AAX8/640 HTTP/1.1\" 200 -\n",
            "127.0.0.1 - - [29/Dec/2024 11:19:31] \"GET /get_image/B0052JK9VE/640 HTTP/1.1\" 200 -\n",
            "127.0.0.1 - - [29/Dec/2024 11:19:31] \"GET /get_image/B00DB5ERM8/640 HTTP/1.1\" 200 -\n",
            "127.0.0.1 - - [29/Dec/2024 11:19:31] \"GET /get_image/B004N8SX1I/640 HTTP/1.1\" 200 -\n",
            "127.0.0.1 - - [29/Dec/2024 11:19:31] \"GET /get_image/B002LKHAQO/640 HTTP/1.1\" 200 -\n",
            "127.0.0.1 - - [29/Dec/2024 11:19:31] \"GET /get_image/B00CDXOO68/640 HTTP/1.1\" 200 -\n",
            "127.0.0.1 - - [29/Dec/2024 11:19:31] \"GET /get_image/B000V3A31M/640 HTTP/1.1\" 200 -\n",
            "127.0.0.1 - - [29/Dec/2024 11:19:31] \"GET /get_image/B009SAUIRI/640 HTTP/1.1\" 200 -\n",
            "127.0.0.1 - - [29/Dec/2024 11:19:31] \"GET /get_image/B008XLMEUC/640 HTTP/1.1\" 200 -\n",
            "127.0.0.1 - - [29/Dec/2024 11:19:31] \"GET /get_image/B006ZP6OYK/640 HTTP/1.1\" 200 -\n",
            "127.0.0.1 - - [29/Dec/2024 11:19:31] \"GET /get_image/B00AYXZ7S8/640 HTTP/1.1\" 200 -\n",
            "127.0.0.1 - - [29/Dec/2024 11:19:32] \"GET /get_image/B0055UQZ2C/640 HTTP/1.1\" 200 -\n",
            "127.0.0.1 - - [29/Dec/2024 11:19:31] \"GET /get_image/B003810JXQ/640 HTTP/1.1\" 200 -\n",
            "127.0.0.1 - - [29/Dec/2024 11:19:32] \"GET /get_image/B007746BOG/640 HTTP/1.1\" 200 -\n",
            "127.0.0.1 - - [29/Dec/2024 11:19:32] \"GET /get_image/B00774HWNA/640 HTTP/1.1\" 200 -\n",
            "127.0.0.1 - - [29/Dec/2024 11:19:32] \"GET /get_image/B008MC2GY6/640 HTTP/1.1\" 200 -\n",
            "127.0.0.1 - - [29/Dec/2024 11:19:32] \"GET /get_image/B004TU0DNG/640 HTTP/1.1\" 200 -\n",
            "127.0.0.1 - - [29/Dec/2024 11:19:32] \"GET /get_image/B006ZP60QC/640 HTTP/1.1\" 200 -\n",
            "127.0.0.1 - - [29/Dec/2024 11:19:32] \"GET /get_image/B0071BJQVU/640 HTTP/1.1\" 200 -\n",
            "127.0.0.1 - - [29/Dec/2024 11:19:32] \"GET /get_image/B00773L4K8/640 HTTP/1.1\" 200 -\n",
            "127.0.0.1 - - [29/Dec/2024 11:19:32] \"GET /get_image/B007746FUG/640 HTTP/1.1\" 200 -\n",
            "127.0.0.1 - - [29/Dec/2024 11:19:32] \"GET /get_image/B004Z1828C/640 HTTP/1.1\" 200 -\n",
            "127.0.0.1 - - [29/Dec/2024 11:19:32] \"GET /get_image/B00916YLW2/640 HTTP/1.1\" 200 -\n",
            "127.0.0.1 - - [29/Dec/2024 11:19:32] \"GET /get_image/B009ZYYBVG/640 HTTP/1.1\" 200 -\n",
            "127.0.0.1 - - [29/Dec/2024 11:19:32] \"GET /get_image/B000EGI2KK/640 HTTP/1.1\" 200 -\n",
            "127.0.0.1 - - [29/Dec/2024 11:19:32] \"GET /get_image/B004BUZN7K/640 HTTP/1.1\" 200 -\n",
            "127.0.0.1 - - [29/Dec/2024 11:19:32] \"GET /get_image/B004FOJLPW/640 HTTP/1.1\" 200 -\n",
            "127.0.0.1 - - [29/Dec/2024 11:19:32] \"GET /get_image/B009SSFZKU/640 HTTP/1.1\" 200 -\n",
            "127.0.0.1 - - [29/Dec/2024 11:19:32] \"GET /get_image/B000EHNF1A/640 HTTP/1.1\" 200 -\n",
            "127.0.0.1 - - [29/Dec/2024 11:19:32] \"GET /get_image/B000EOWSU2/640 HTTP/1.1\" 200 -\n",
            "127.0.0.1 - - [29/Dec/2024 11:19:32] \"GET /get_image/B005THIVZU/640 HTTP/1.1\" 200 -\n",
            "127.0.0.1 - - [29/Dec/2024 11:19:32] \"GET /get_image/B0042O6FJU/640 HTTP/1.1\" 200 -\n",
            "127.0.0.1 - - [29/Dec/2024 11:19:32] \"GET /get_image/B00BR2RVTI/640 HTTP/1.1\" 200 -\n",
            "127.0.0.1 - - [29/Dec/2024 11:19:32] \"GET /get_image/B000LMU6X8/640 HTTP/1.1\" 200 -\n",
            "127.0.0.1 - - [29/Dec/2024 11:19:32] \"GET /get_image/B009ZYQU6K/640 HTTP/1.1\" 200 -\n",
            "127.0.0.1 - - [29/Dec/2024 11:19:32] \"GET /get_image/B00DY2FN0I/640 HTTP/1.1\" 200 -\n",
            "127.0.0.1 - - [29/Dec/2024 11:19:33] \"GET /favicon.ico HTTP/1.1\" 200 -\n",
            "127.0.0.1 - - [29/Dec/2024 11:19:56] \"\u001b[32mPOST /fashionIQ/tai_xuong_11735471152.jpg/same%20color%20but%20has%20dog%20on%20shirt HTTP/1.1\u001b[0m\" 302 -\n",
            "127.0.0.1 - - [29/Dec/2024 11:19:58] \"GET /fashionIQ/tai_xuong_11735471152.jpg/the%20shirt%20is%20shorter HTTP/1.1\" 200 -\n",
            "127.0.0.1 - - [29/Dec/2024 11:19:58] \"\u001b[36mGET /static/css/mdb.dark.min.css HTTP/1.1\u001b[0m\" 304 -\n",
            "127.0.0.1 - - [29/Dec/2024 11:19:58] \"\u001b[36mGET /static/css/bootstrap.min.css HTTP/1.1\u001b[0m\" 304 -\n",
            "127.0.0.1 - - [29/Dec/2024 11:19:59] \"\u001b[36mGET /static/css/mdb.min.css HTTP/1.1\u001b[0m\" 304 -\n",
            "127.0.0.1 - - [29/Dec/2024 11:19:59] \"\u001b[36mGET /static/js/bootstrap.bundle.min.js HTTP/1.1\u001b[0m\" 304 -\n",
            "127.0.0.1 - - [29/Dec/2024 11:19:59] \"GET /get_image/tai_xuong_11735471152.jpg?dataset=fashionIQ HTTP/1.1\" 200 -\n",
            "127.0.0.1 - - [29/Dec/2024 11:19:59] \"\u001b[36mGET /static/js/mdb.min.js HTTP/1.1\u001b[0m\" 304 -\n",
            "127.0.0.1 - - [29/Dec/2024 11:19:59] \"GET /get_image/B004Z1828C/640 HTTP/1.1\" 200 -\n",
            "127.0.0.1 - - [29/Dec/2024 11:19:59] \"GET /get_image/B003S0W9EO/640 HTTP/1.1\" 200 -\n",
            "127.0.0.1 - - [29/Dec/2024 11:19:59] \"GET /get_image/B009Z6ALWC/640 HTTP/1.1\" 200 -\n",
            "127.0.0.1 - - [29/Dec/2024 11:19:59] \"GET /get_image/B00573PRFS/640 HTTP/1.1\" 200 -\n",
            "127.0.0.1 - - [29/Dec/2024 11:19:59] \"GET /get_image/B00AZPH57Q/640 HTTP/1.1\" 200 -\n",
            "127.0.0.1 - - [29/Dec/2024 11:19:59] \"GET /get_image/B001NLLA9K/640 HTTP/1.1\" 200 -\n",
            "127.0.0.1 - - [29/Dec/2024 11:19:59] \"GET /get_image/B00642QB2E/640 HTTP/1.1\" 200 -\n",
            "127.0.0.1 - - [29/Dec/2024 11:19:59] \"GET /get_image/B0063DKX3W/640 HTTP/1.1\" 200 -\n",
            "127.0.0.1 - - [29/Dec/2024 11:19:59] \"GET /get_image/B009R7510G/640 HTTP/1.1\" 200 -\n",
            "127.0.0.1 - - [29/Dec/2024 11:19:59] \"GET /get_image/B009R74SUK/640 HTTP/1.1\" 200 -\n",
            "127.0.0.1 - - [29/Dec/2024 11:19:59] \"GET /get_image/B008GV14UA/640 HTTP/1.1\" 200 -\n",
            "127.0.0.1 - - [29/Dec/2024 11:19:59] \"GET /get_image/B00C9U7CF0/640 HTTP/1.1\" 200 -\n",
            "127.0.0.1 - - [29/Dec/2024 11:19:59] \"GET /get_image/B002X78T7Y/640 HTTP/1.1\" 200 -\n",
            "127.0.0.1 - - [29/Dec/2024 11:19:59] \"GET /get_image/B005NYBGTW/640 HTTP/1.1\" 200 -\n",
            "127.0.0.1 - - [29/Dec/2024 11:19:59] \"GET /get_image/B00653OY3U/640 HTTP/1.1\" 200 -\n",
            "127.0.0.1 - - [29/Dec/2024 11:19:59] \"GET /get_image/B0071I4YLU/640 HTTP/1.1\" 200 -\n",
            "127.0.0.1 - - [29/Dec/2024 11:19:59] \"GET /get_image/B004YRTVNM/640 HTTP/1.1\" 200 -\n",
            "127.0.0.1 - - [29/Dec/2024 11:19:59] \"GET /get_image/B004M5I4GQ/640 HTTP/1.1\" 200 -\n",
            "127.0.0.1 - - [29/Dec/2024 11:19:59] \"GET /get_image/B00B4EC8GA/640 HTTP/1.1\" 200 -\n",
            "127.0.0.1 - - [29/Dec/2024 11:19:59] \"GET /get_image/B009PWOEKQ/640 HTTP/1.1\" 200 -\n",
            "127.0.0.1 - - [29/Dec/2024 11:19:59] \"GET /get_image/B00CY3BSOI/640 HTTP/1.1\" 200 -\n",
            "127.0.0.1 - - [29/Dec/2024 11:19:59] \"GET /get_image/B003XP78IQ/640 HTTP/1.1\" 200 -\n",
            "127.0.0.1 - - [29/Dec/2024 11:19:59] \"GET /get_image/B001AJN89U/640 HTTP/1.1\" 200 -\n",
            "127.0.0.1 - - [29/Dec/2024 11:19:59] \"GET /get_image/B008BT58BI/640 HTTP/1.1\" 200 -\n",
            "127.0.0.1 - - [29/Dec/2024 11:19:59] \"GET /get_image/B008CFZWEE/640 HTTP/1.1\" 200 -\n",
            "127.0.0.1 - - [29/Dec/2024 11:19:59] \"GET /get_image/B000ZHE51S/640 HTTP/1.1\" 200 -\n",
            "127.0.0.1 - - [29/Dec/2024 11:19:59] \"GET /get_image/B001PB56MK/640 HTTP/1.1\" 200 -\n",
            "127.0.0.1 - - [29/Dec/2024 11:19:59] \"GET /get_image/B007KGG5RY/640 HTTP/1.1\" 200 -\n",
            "127.0.0.1 - - [29/Dec/2024 11:19:59] \"GET /get_image/B005GR19DO/640 HTTP/1.1\" 200 -\n",
            "127.0.0.1 - - [29/Dec/2024 11:19:59] \"GET /get_image/B004YB4XJ0/640 HTTP/1.1\" 200 -\n",
            "127.0.0.1 - - [29/Dec/2024 11:19:59] \"GET /get_image/B004O0TRZQ/640 HTTP/1.1\" 200 -\n",
            "127.0.0.1 - - [29/Dec/2024 11:19:59] \"GET /get_image/B0040JZKSE/640 HTTP/1.1\" 200 -\n",
            "127.0.0.1 - - [29/Dec/2024 11:19:59] \"GET /get_image/B003H8MGP4/640 HTTP/1.1\" 200 -\n",
            "127.0.0.1 - - [29/Dec/2024 11:19:59] \"GET /get_image/B00EGLDY4I/640 HTTP/1.1\" 200 -\n",
            "127.0.0.1 - - [29/Dec/2024 11:20:00] \"GET /get_image/B00CRT1HS6/640 HTTP/1.1\" 200 -\n",
            "127.0.0.1 - - [29/Dec/2024 11:20:00] \"GET /get_image/B00DB5ERM8/640 HTTP/1.1\" 200 -\n",
            "127.0.0.1 - - [29/Dec/2024 11:20:00] \"GET /get_image/B008MTY9C6/640 HTTP/1.1\" 200 -\n",
            "127.0.0.1 - - [29/Dec/2024 11:20:00] \"GET /get_image/B007TKWB4M/640 HTTP/1.1\" 200 -\n",
            "127.0.0.1 - - [29/Dec/2024 11:20:00] \"GET /get_image/B00E4AE148/640 HTTP/1.1\" 200 -\n",
            "127.0.0.1 - - [29/Dec/2024 11:20:00] \"GET /get_image/B001S2PPH2/640 HTTP/1.1\" 200 -\n",
            "127.0.0.1 - - [29/Dec/2024 11:20:00] \"GET /get_image/B0039BN2SO/640 HTTP/1.1\" 200 -\n",
            "127.0.0.1 - - [29/Dec/2024 11:20:00] \"GET /get_image/B00BCXL3QE/640 HTTP/1.1\" 200 -\n",
            "127.0.0.1 - - [29/Dec/2024 11:20:00] \"GET /get_image/B0069658OW/640 HTTP/1.1\" 200 -\n",
            "127.0.0.1 - - [29/Dec/2024 11:20:00] \"GET /get_image/B00BBL1E2U/640 HTTP/1.1\" 200 -\n",
            "127.0.0.1 - - [29/Dec/2024 11:20:00] \"GET /get_image/B007E34PQQ/640 HTTP/1.1\" 200 -\n",
            "127.0.0.1 - - [29/Dec/2024 11:20:00] \"GET /get_image/B00BG2AF6K/640 HTTP/1.1\" 200 -\n",
            "127.0.0.1 - - [29/Dec/2024 11:20:00] \"GET /get_image/B008LCJIUW/640 HTTP/1.1\" 200 -\n",
            "127.0.0.1 - - [29/Dec/2024 11:20:00] \"GET /get_image/B006QOI7U4/640 HTTP/1.1\" 200 -\n",
            "127.0.0.1 - - [29/Dec/2024 11:20:00] \"GET /get_image/B00AECFA22/640 HTTP/1.1\" 200 -\n",
            "127.0.0.1 - - [29/Dec/2024 11:20:00] \"GET /get_image/B001E203KU/640 HTTP/1.1\" 200 -\n",
            "127.0.0.1 - - [29/Dec/2024 11:20:01] \"GET /favicon.ico HTTP/1.1\" 200 -\n",
            "127.0.0.1 - - [29/Dec/2024 11:20:31] \"GET / HTTP/1.1\" 200 -\n",
            "127.0.0.1 - - [29/Dec/2024 11:20:31] \"\u001b[36mGET /static/css/mdb.min.css HTTP/1.1\u001b[0m\" 304 -\n",
            "127.0.0.1 - - [29/Dec/2024 11:20:31] \"\u001b[36mGET /static/css/bootstrap.min.css HTTP/1.1\u001b[0m\" 304 -\n",
            "127.0.0.1 - - [29/Dec/2024 11:20:32] \"\u001b[36mGET /static/js/mdb.min.js HTTP/1.1\u001b[0m\" 304 -\n",
            "127.0.0.1 - - [29/Dec/2024 11:20:32] \"\u001b[36mGET /static/js/bootstrap.bundle.min.js HTTP/1.1\u001b[0m\" 304 -\n",
            "127.0.0.1 - - [29/Dec/2024 11:20:32] \"\u001b[36mGET /static/css/mdb.dark.min.css HTTP/1.1\u001b[0m\" 304 -\n",
            "127.0.0.1 - - [29/Dec/2024 11:20:32] \"GET /favicon.ico HTTP/1.1\" 200 -\n",
            "127.0.0.1 - - [29/Dec/2024 11:20:37] \"\u001b[32mPOST /file_upload/fashionIQ HTTP/1.1\u001b[0m\" 302 -\n",
            "127.0.0.1 - - [29/Dec/2024 11:20:37] \"GET /fashionIQ/tai_xuong_21735471237.jpg HTTP/1.1\" 200 -\n",
            "127.0.0.1 - - [29/Dec/2024 11:20:38] \"\u001b[36mGET /static/css/bootstrap.min.css HTTP/1.1\u001b[0m\" 304 -\n",
            "127.0.0.1 - - [29/Dec/2024 11:20:38] \"\u001b[36mGET /static/css/mdb.dark.min.css HTTP/1.1\u001b[0m\" 304 -\n",
            "127.0.0.1 - - [29/Dec/2024 11:20:38] \"\u001b[36mGET /static/js/bootstrap.bundle.min.js HTTP/1.1\u001b[0m\" 304 -\n",
            "127.0.0.1 - - [29/Dec/2024 11:20:38] \"\u001b[36mGET /static/css/mdb.min.css HTTP/1.1\u001b[0m\" 304 -\n",
            "127.0.0.1 - - [29/Dec/2024 11:20:38] \"\u001b[36mGET /static/js/mdb.min.js HTTP/1.1\u001b[0m\" 304 -\n",
            "127.0.0.1 - - [29/Dec/2024 11:20:38] \"GET /get_image/tai_xuong_21735471237.jpg?dataset=fashionIQ HTTP/1.1\" 200 -\n",
            "127.0.0.1 - - [29/Dec/2024 11:20:39] \"GET /favicon.ico HTTP/1.1\" 200 -\n",
            "127.0.0.1 - - [29/Dec/2024 11:20:56] \"\u001b[32mPOST /fashionIQ/tai_xuong_21735471237.jpg HTTP/1.1\u001b[0m\" 302 -\n",
            "127.0.0.1 - - [29/Dec/2024 11:20:58] \"GET /fashionIQ/tai_xuong_21735471237.jpg/the%20dress%20is%20shorter%20and%20white HTTP/1.1\" 200 -\n",
            "127.0.0.1 - - [29/Dec/2024 11:20:59] \"\u001b[36mGET /static/css/bootstrap.min.css HTTP/1.1\u001b[0m\" 304 -\n",
            "127.0.0.1 - - [29/Dec/2024 11:20:59] \"GET /get_image/B004U9W0LE/640 HTTP/1.1\" 200 -\n",
            "127.0.0.1 - - [29/Dec/2024 11:20:59] \"\u001b[36mGET /static/css/mdb.dark.min.css HTTP/1.1\u001b[0m\" 304 -\n",
            "127.0.0.1 - - [29/Dec/2024 11:20:59] \"\u001b[36mGET /static/js/mdb.min.js HTTP/1.1\u001b[0m\" 304 -\n",
            "127.0.0.1 - - [29/Dec/2024 11:20:59] \"GET /get_image/B00EXMSRW4/640 HTTP/1.1\" 200 -\n",
            "127.0.0.1 - - [29/Dec/2024 11:20:59] \"\u001b[36mGET /static/css/mdb.min.css HTTP/1.1\u001b[0m\" 304 -\n",
            "127.0.0.1 - - [29/Dec/2024 11:20:59] \"GET /get_image/B005IFCASW/640 HTTP/1.1\" 200 -\n",
            "127.0.0.1 - - [29/Dec/2024 11:20:59] \"\u001b[36mGET /static/js/bootstrap.bundle.min.js HTTP/1.1\u001b[0m\" 304 -\n",
            "127.0.0.1 - - [29/Dec/2024 11:20:59] \"GET /get_image/B006YZ7REM/640 HTTP/1.1\" 200 -\n",
            "127.0.0.1 - - [29/Dec/2024 11:20:59] \"GET /get_image/B00BG5U5KS/640 HTTP/1.1\" 200 -\n",
            "127.0.0.1 - - [29/Dec/2024 11:20:59] \"GET /get_image/B00BG44ZKK/640 HTTP/1.1\" 200 -\n",
            "127.0.0.1 - - [29/Dec/2024 11:20:59] \"GET /get_image/B00B1KWFRE/640 HTTP/1.1\" 200 -\n",
            "127.0.0.1 - - [29/Dec/2024 11:20:59] \"GET /get_image/B007CDYKB8/640 HTTP/1.1\" 200 -\n",
            "127.0.0.1 - - [29/Dec/2024 11:20:59] \"GET /get_image/B00CAMGR4O/640 HTTP/1.1\" 200 -\n",
            "127.0.0.1 - - [29/Dec/2024 11:20:59] \"GET /get_image/tai_xuong_21735471237.jpg?dataset=fashionIQ HTTP/1.1\" 200 -\n",
            "127.0.0.1 - - [29/Dec/2024 11:20:59] \"GET /get_image/B00BUKL1IY/640 HTTP/1.1\" 200 -\n",
            "127.0.0.1 - - [29/Dec/2024 11:20:59] \"GET /get_image/B0097JITVM/640 HTTP/1.1\" 200 -\n",
            "127.0.0.1 - - [29/Dec/2024 11:20:59] \"GET /get_image/B008VGMD0U/640 HTTP/1.1\" 200 -\n",
            "127.0.0.1 - - [29/Dec/2024 11:20:59] \"GET /get_image/B00CY9L4PK/640 HTTP/1.1\" 200 -\n",
            "127.0.0.1 - - [29/Dec/2024 11:20:59] \"GET /get_image/B00CM2DRT0/640 HTTP/1.1\" 200 -\n",
            "127.0.0.1 - - [29/Dec/2024 11:20:59] \"GET /get_image/B00F6QXPDC/640 HTTP/1.1\" 200 -\n",
            "127.0.0.1 - - [29/Dec/2024 11:20:59] \"GET /get_image/B00FCTCFVG/640 HTTP/1.1\" 200 -\n",
            "127.0.0.1 - - [29/Dec/2024 11:20:59] \"GET /get_image/B00BSMSSSK/640 HTTP/1.1\" 200 -\n",
            "127.0.0.1 - - [29/Dec/2024 11:20:59] \"GET /get_image/B00B361B1C/640 HTTP/1.1\" 200 -\n",
            "127.0.0.1 - - [29/Dec/2024 11:20:59] \"GET /get_image/B00916WVME/640 HTTP/1.1\" 200 -\n",
            "127.0.0.1 - - [29/Dec/2024 11:20:59] \"GET /get_image/B00EYPOU6C/640 HTTP/1.1\" 200 -\n",
            "127.0.0.1 - - [29/Dec/2024 11:20:59] \"GET /get_image/B005F0NOYO/640 HTTP/1.1\" 200 -\n",
            "127.0.0.1 - - [29/Dec/2024 11:20:59] \"GET /get_image/B00B1OKIRO/640 HTTP/1.1\" 200 -\n",
            "127.0.0.1 - - [29/Dec/2024 11:20:59] \"GET /get_image/B00EZNNU14/640 HTTP/1.1\" 200 -\n",
            "127.0.0.1 - - [29/Dec/2024 11:20:59] \"GET /get_image/B00BXFOUK2/640 HTTP/1.1\" 200 -\n",
            "127.0.0.1 - - [29/Dec/2024 11:20:59] \"GET /get_image/B009ERTIU8/640 HTTP/1.1\" 200 -\n",
            "127.0.0.1 - - [29/Dec/2024 11:20:59] \"GET /get_image/B00BG5TRZ2/640 HTTP/1.1\" 200 -\n",
            "127.0.0.1 - - [29/Dec/2024 11:20:59] \"GET /get_image/B007CHVUFI/640 HTTP/1.1\" 200 -\n",
            "127.0.0.1 - - [29/Dec/2024 11:20:59] \"GET /get_image/B00GTNC0G4/640 HTTP/1.1\" 200 -\n",
            "127.0.0.1 - - [29/Dec/2024 11:20:59] \"GET /get_image/B00DPM9WFY/640 HTTP/1.1\" 200 -\n",
            "127.0.0.1 - - [29/Dec/2024 11:20:59] \"GET /get_image/B00AXX83YE/640 HTTP/1.1\" 200 -\n",
            "127.0.0.1 - - [29/Dec/2024 11:20:59] \"GET /get_image/B002EAJ79E/640 HTTP/1.1\" 200 -\n",
            "127.0.0.1 - - [29/Dec/2024 11:20:59] \"GET /get_image/B0073O9IK4/640 HTTP/1.1\" 200 -\n",
            "127.0.0.1 - - [29/Dec/2024 11:20:59] \"GET /get_image/B009MJQYKK/640 HTTP/1.1\" 200 -\n",
            "127.0.0.1 - - [29/Dec/2024 11:20:59] \"GET /get_image/B00BY3GO0C/640 HTTP/1.1\" 200 -\n",
            "127.0.0.1 - - [29/Dec/2024 11:20:59] \"GET /get_image/B009815VKG/640 HTTP/1.1\" 200 -\n",
            "127.0.0.1 - - [29/Dec/2024 11:20:59] \"GET /get_image/B0007V0ZYS/640 HTTP/1.1\" 200 -\n",
            "127.0.0.1 - - [29/Dec/2024 11:20:59] \"GET /get_image/B00BJXLJJS/640 HTTP/1.1\" 200 -\n",
            "127.0.0.1 - - [29/Dec/2024 11:20:59] \"GET /get_image/B00428MW7A/640 HTTP/1.1\" 200 -\n",
            "127.0.0.1 - - [29/Dec/2024 11:20:59] \"GET /get_image/B006W20H0I/640 HTTP/1.1\" 200 -\n",
            "127.0.0.1 - - [29/Dec/2024 11:20:59] \"GET /get_image/B00AFX3FQ8/640 HTTP/1.1\" 200 -\n",
            "127.0.0.1 - - [29/Dec/2024 11:20:59] \"GET /get_image/B00AHOYXDO/640 HTTP/1.1\" 200 -\n",
            "127.0.0.1 - - [29/Dec/2024 11:20:59] \"GET /get_image/B00BY3GCD6/640 HTTP/1.1\" 200 -\n",
            "127.0.0.1 - - [29/Dec/2024 11:20:59] \"GET /get_image/B006W71950/640 HTTP/1.1\" 200 -\n",
            "127.0.0.1 - - [29/Dec/2024 11:20:59] \"GET /get_image/B0087PLHB6/640 HTTP/1.1\" 200 -\n",
            "127.0.0.1 - - [29/Dec/2024 11:20:59] \"GET /get_image/B006V9YA7I/640 HTTP/1.1\" 200 -\n",
            "127.0.0.1 - - [29/Dec/2024 11:21:00] \"GET /get_image/B005S9WF1U/640 HTTP/1.1\" 200 -\n",
            "127.0.0.1 - - [29/Dec/2024 11:21:00] \"GET /get_image/B00AA9Z98O/640 HTTP/1.1\" 200 -\n",
            "127.0.0.1 - - [29/Dec/2024 11:21:00] \"GET /get_image/B00EA30H56/640 HTTP/1.1\" 200 -\n",
            "127.0.0.1 - - [29/Dec/2024 11:21:00] \"GET /get_image/B00BY3GFWE/640 HTTP/1.1\" 200 -\n",
            "127.0.0.1 - - [29/Dec/2024 11:21:00] \"GET /get_image/B005A2645I/640 HTTP/1.1\" 200 -\n",
            "127.0.0.1 - - [29/Dec/2024 11:21:00] \"GET /favicon.ico HTTP/1.1\" 200 -\n",
            "127.0.0.1 - - [29/Dec/2024 11:21:16] \"GET /fashionIQ/B0007V0ZYS HTTP/1.1\" 200 -\n",
            "127.0.0.1 - - [29/Dec/2024 11:21:17] \"\u001b[36mGET /static/css/bootstrap.min.css HTTP/1.1\u001b[0m\" 304 -\n",
            "127.0.0.1 - - [29/Dec/2024 11:21:17] \"GET /get_image/B0007V0ZYS?dataset=fashionIQ HTTP/1.1\" 200 -\n",
            "127.0.0.1 - - [29/Dec/2024 11:21:17] \"\u001b[36mGET /static/css/mdb.dark.min.css HTTP/1.1\u001b[0m\" 304 -\n",
            "127.0.0.1 - - [29/Dec/2024 11:21:17] \"\u001b[36mGET /static/css/mdb.min.css HTTP/1.1\u001b[0m\" 304 -\n",
            "127.0.0.1 - - [29/Dec/2024 11:21:17] \"\u001b[36mGET /static/js/bootstrap.bundle.min.js HTTP/1.1\u001b[0m\" 304 -\n",
            "127.0.0.1 - - [29/Dec/2024 11:21:17] \"\u001b[36mGET /static/js/mdb.min.js HTTP/1.1\u001b[0m\" 304 -\n",
            "127.0.0.1 - - [29/Dec/2024 11:21:17] \"GET /favicon.ico HTTP/1.1\" 200 -\n",
            "127.0.0.1 - - [29/Dec/2024 11:21:24] \"GET /favicon.ico HTTP/1.1\" 200 -\n",
            "Process Process-1:\n",
            "Traceback (most recent call last):\n",
            "  File \"/usr/lib/python3.10/multiprocessing/process.py\", line 314, in _bootstrap\n",
            "    self.run()\n",
            "  File \"/usr/lib/python3.10/multiprocessing/process.py\", line 108, in run\n",
            "    self._target(*self._args, **self._kwargs)\n",
            "  File \"/content/CLIP4CirDemo/app.py\", line 388, in delete_uploaded_images\n",
            "    time.sleep(SLEEP_TIME)\n",
            "KeyboardInterrupt\n",
            "t=2024-12-29T11:21:30+0000 lvl=warn msg=\"Stopping forwarder\" name=http-5000-ce673dde-fda2-4e9a-ac4f-cef1913ebf17 acceptErr=\"failed to accept connection: Listener closed\"\n",
            "t=2024-12-29T11:21:30+0000 lvl=warn msg=\"Error restarting forwarder\" name=http-5000-ce673dde-fda2-4e9a-ac4f-cef1913ebf17 err=\"failed to start tunnel: session closed\"\n",
            "Exception ignored in atexit callback: <function dump_compile_times at 0x78ddc57ed120>\n",
            "Traceback (most recent call last):\n",
            "  File \"/usr/local/lib/python3.10/dist-packages/torch/_dynamo/utils.py\", line 399, in dump_compile_times\n",
            "    log.info(compile_times(repr=\"str\", aggregate=True))\n",
            "  File \"/usr/local/lib/python3.10/dist-packages/torch/_dynamo/utils.py\", line 385, in compile_times\n",
            "    out += tabulate(rows, headers=(\"Function\", \"Runtimes (s)\"))\n",
            "  File \"/usr/local/lib/python3.10/dist-packages/torch/_dynamo/utils.py\", line 148, in tabulate\n",
            "    import tabulate\n",
            "  File \"/usr/local/lib/python3.10/dist-packages/tabulate/__init__.py\", line 763, in <module>\n",
            "    _ansi_codes = re.compile(_ansi_escape_pat, re.VERBOSE)\n",
            "  File \"/usr/lib/python3.10/re.py\", line 251, in compile\n",
            "    return _compile(pattern, flags)\n",
            "  File \"/usr/lib/python3.10/re.py\", line 303, in _compile\n",
            "    p = sre_compile.compile(pattern, flags)\n",
            "  File \"/usr/lib/python3.10/sre_compile.py\", line 788, in compile\n",
            "    p = sre_parse.parse(p, flags)\n",
            "  File \"/usr/lib/python3.10/sre_parse.py\", line 955, in parse\n",
            "    p = _parse_sub(source, state, flags & SRE_FLAG_VERBOSE, 0)\n",
            "  File \"/usr/lib/python3.10/sre_parse.py\", line 444, in _parse_sub\n",
            "    itemsappend(_parse(source, state, verbose, nested + 1,\n",
            "  File \"/usr/lib/python3.10/sre_parse.py\", line 512, in _parse\n",
            "    sourceget()\n",
            "  File \"/usr/lib/python3.10/sre_parse.py\", line 257, in get\n",
            "    self.__next()\n",
            "  File \"/usr/lib/python3.10/sre_parse.py\", line 237, in __next\n",
            "    char = self.decoded_string[index]\n",
            "KeyboardInterrupt: \n"
          ]
        }
      ]
    }
  ]
}